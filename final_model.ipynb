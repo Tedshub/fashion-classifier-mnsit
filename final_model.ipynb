{
  "nbformat": 4,
  "nbformat_minor": 0,
  "metadata": {
    "colab": {
      "provenance": []
    },
    "kernelspec": {
      "name": "python3",
      "display_name": "Python 3"
    },
    "language_info": {
      "name": "python"
    }
  },
  "cells": [
    {
      "cell_type": "markdown",
      "source": [
        "# Nama  : Tedy Firmansyah\n",
        "# NPM   : 22670133\n",
        "# Kelas : Data Science 6E\n",
        "\n",
        "\n",
        "---\n",
        "\n"
      ],
      "metadata": {
        "id": "6aOviWvWtBLJ"
      }
    },
    {
      "cell_type": "markdown",
      "source": [
        "# **Membuat sebuah model dengan task Supervised Learning: Klasifikasi gambar pakaian (kaos, sepatu, tas, dll.) menggunakan model supervised learning / klasifikasi.**\n",
        "\n",
        "Dengan dataset Fashion MNIST\n",
        "\n",
        "Dataset fashion_mnist dari tensorflow.keras.datasets adalah dataset bawaan yang secara otomatis diunduh dari server resmi saat pertama kali dipanggil.\n",
        "\n",
        "Model ini menggunakan Algoritma Klasifikasi (Supervised Learning) Artificial Neural Network (ANN).\n",
        "\n",
        "ANN dipilih karena cocok untuk klasifikasi gambar sederhana seperti Fashion MNIST. Model ini mampu mengenali pola non-linear, mudah diimplementasikan, dan efektif sebagai baseline sebelum menggunakan model yang lebih kompleks seperti CNN.\n",
        "\n",
        "Tahapan:\n",
        "1. Business Understanding\n",
        "2. Data Understanding\n",
        "3. Preprocessing Data\n",
        "4. Modeling\n",
        "5. Evaluasi"
      ],
      "metadata": {
        "id": "f6Vx3T7Lrckq"
      }
    },
    {
      "cell_type": "markdown",
      "source": [
        "# **1. Business Understanding**\n",
        "Tujuan Proyek:\n",
        "\n",
        "\n",
        "Membangun model klasifikasi gambar pakaian menggunakan ANN untuk mengenali jenis pakaian seperti T-shirt, sepatu, tas, dll.\n",
        "\n",
        "Manfaat:\n",
        "\n",
        "* Otomatisasi klasifikasi produk e-commerce.\n",
        "\n",
        "* Deteksi produk fashion dari gambar pelanggan atau inventaris.\n",
        "\n",
        "* Dapat digunakan dalam aplikasi pencarian visual (visual search engine).\n",
        "\n",
        "Hal ini penting karena dalam e-commerce, klasifikasi cepat dan akurat membantu pengelompokan produk, meningkatkan pengalaman pencarian, dan memungkinkan sistem rekomendasi yang lebih baik."
      ],
      "metadata": {
        "id": "AMUCeObgqJD6"
      }
    },
    {
      "cell_type": "markdown",
      "source": [
        "# **2. Data Understanding**"
      ],
      "metadata": {
        "id": "GxiW5AcOthe5"
      }
    },
    {
      "cell_type": "code",
      "execution_count": null,
      "metadata": {
        "colab": {
          "base_uri": "https://localhost:8080/"
        },
        "id": "nIQxhgCzmSxQ",
        "outputId": "b655749f-de22-4ab0-cf61-924ecb81645d"
      },
      "outputs": [
        {
          "output_type": "stream",
          "name": "stdout",
          "text": [
            "Downloading data from https://storage.googleapis.com/tensorflow/tf-keras-datasets/train-labels-idx1-ubyte.gz\n",
            "\u001b[1m29515/29515\u001b[0m \u001b[32m━━━━━━━━━━━━━━━━━━━━\u001b[0m\u001b[37m\u001b[0m \u001b[1m0s\u001b[0m 0us/step\n",
            "Downloading data from https://storage.googleapis.com/tensorflow/tf-keras-datasets/train-images-idx3-ubyte.gz\n",
            "\u001b[1m26421880/26421880\u001b[0m \u001b[32m━━━━━━━━━━━━━━━━━━━━\u001b[0m\u001b[37m\u001b[0m \u001b[1m0s\u001b[0m 0us/step\n",
            "Downloading data from https://storage.googleapis.com/tensorflow/tf-keras-datasets/t10k-labels-idx1-ubyte.gz\n",
            "\u001b[1m5148/5148\u001b[0m \u001b[32m━━━━━━━━━━━━━━━━━━━━\u001b[0m\u001b[37m\u001b[0m \u001b[1m0s\u001b[0m 0us/step\n",
            "Downloading data from https://storage.googleapis.com/tensorflow/tf-keras-datasets/t10k-images-idx3-ubyte.gz\n",
            "\u001b[1m4422102/4422102\u001b[0m \u001b[32m━━━━━━━━━━━━━━━━━━━━\u001b[0m\u001b[37m\u001b[0m \u001b[1m0s\u001b[0m 0us/step\n",
            "Ukuran data train: (60000, 28, 28)\n",
            "Ukuran data test: (10000, 28, 28)\n"
          ]
        }
      ],
      "source": [
        "import pandas as pd\n",
        "import numpy as np\n",
        "import matplotlib.pyplot as plt\n",
        "import seaborn as sns\n",
        "from tensorflow.keras.datasets import fashion_mnist\n",
        "\n",
        "# Load data dari TensorFlow\n",
        "(x_train, y_train), (x_test, y_test) = fashion_mnist.load_data()\n",
        "\n",
        "print(\"Ukuran data train:\", x_train.shape)\n",
        "print(\"Ukuran data test:\", x_test.shape)"
      ]
    },
    {
      "cell_type": "markdown",
      "source": [
        "Import library\n",
        "\n",
        "* pandas: Untuk manipulasi data tabular (seperti dataframe).\n",
        "\n",
        "* numpy: Untuk manipulasi array numerik, struktur data utama dalam machine learning.\n",
        "\n",
        "* matplotlib.pyplot: Untuk visualisasi grafik dasar.\n",
        "\n",
        "* seaborn: Untuk visualisasi statistik yang lebih cantik (heatmap, countplot, dsb).\n",
        "\n",
        "* fashion_mnist: Dataset bawaan dari TensorFlow, mirip seperti yang ada di Kaggle.\n",
        "\n",
        "Dataset Fashion MNIST diambil dari TensorFlow.\n",
        "\n",
        "* Dataset ini berisi gambar fashion item 28x28 pixel, total 70.000 gambar.\n",
        "\n",
        "* Terbagi jadi x_train, y_train untuk pelatihan dan x_test, y_test untuk pengujian."
      ],
      "metadata": {
        "id": "03x1oIZ_y4W_"
      }
    },
    {
      "cell_type": "markdown",
      "source": [
        "**Mapping Label kelas:**"
      ],
      "metadata": {
        "id": "BSRZ4QVEuXK3"
      }
    },
    {
      "cell_type": "code",
      "source": [
        "label_map = {\n",
        "    0: 'T-shirt/top', 1: 'Trouser', 2: 'Pullover', 3: 'Dress', 4: 'Coat',\n",
        "    5: 'Sandal', 6: 'Shirt', 7: 'Sneaker', 8: 'Bag', 9: 'Ankle boot'\n",
        "}"
      ],
      "metadata": {
        "id": "EyBT269HnfM-"
      },
      "execution_count": null,
      "outputs": []
    },
    {
      "cell_type": "markdown",
      "source": [
        "Ini adalah kamus (dictionary) yang digunakan untuk menerjemahkan label numerik (0-9) menjadi nama kategori pakaian."
      ],
      "metadata": {
        "id": "wLT9mCVMLJAJ"
      }
    },
    {
      "cell_type": "markdown",
      "source": [
        "**Distribusi kelas:**"
      ],
      "metadata": {
        "id": "fNGITBgJud4I"
      }
    },
    {
      "cell_type": "code",
      "source": [
        "sns.countplot(x=y_train)\n",
        "plt.title(\"Distribusi Kelas Fashion MNIST\")\n",
        "plt.show()"
      ],
      "metadata": {
        "colab": {
          "base_uri": "https://localhost:8080/",
          "height": 452
        },
        "id": "0WVT1qEbnhb2",
        "outputId": "c0002ce6-930e-4794-d863-2f49f224eb79"
      },
      "execution_count": null,
      "outputs": [
        {
          "output_type": "display_data",
          "data": {
            "text/plain": [
              "<Figure size 640x480 with 1 Axes>"
            ],
            "image/png": "[encoded data removed]"
          },
          "metadata": {}
        }
      ]
    },
    {
      "cell_type": "markdown",
      "source": [
        "* Visualisasi bar chart untuk melihat distribusi jumlah data per kelas.\n",
        "\n",
        "* Memastikan bahwa dataset cukup seimbang (jumlah data tiap kelas relatif sama)."
      ],
      "metadata": {
        "id": "jDVnhdoTLj3c"
      }
    },
    {
      "cell_type": "markdown",
      "source": [
        "**Cek nilai hilang/missing value:**"
      ],
      "metadata": {
        "id": "_AQF8zGYurW0"
      }
    },
    {
      "cell_type": "code",
      "source": [
        "print(\"Nilai hilang di x_train:\", np.isnan(x_train).sum())"
      ],
      "metadata": {
        "colab": {
          "base_uri": "https://localhost:8080/"
        },
        "id": "CxRTkwDYnpca",
        "outputId": "dfa416dd-9791-43e2-acb0-22045e6151e9"
      },
      "execution_count": null,
      "outputs": [
        {
          "output_type": "stream",
          "name": "stdout",
          "text": [
            "Nilai hilang di x_train: 0\n"
          ]
        }
      ]
    },
    {
      "cell_type": "markdown",
      "source": [
        "# **3. Data Preparation**"
      ],
      "metadata": {
        "id": "ssWU5hK8u5F_"
      }
    },
    {
      "cell_type": "markdown",
      "source": [
        "**a. Normalisasi**"
      ],
      "metadata": {
        "id": "5N9FFLuxvCko"
      }
    },
    {
      "cell_type": "code",
      "source": [
        "x_train = x_train / 255.0\n",
        "x_test = x_test / 255.0"
      ],
      "metadata": {
        "id": "bFIWrap_n0Xa"
      },
      "execution_count": null,
      "outputs": []
    },
    {
      "cell_type": "markdown",
      "source": [
        "data pixel (0–255) dikonversi ke rentang [0, 1] agar training lebih stabil dan cepat."
      ],
      "metadata": {
        "id": "1zTBUmLwMCnB"
      }
    },
    {
      "cell_type": "markdown",
      "source": [
        "**b. Reshape**\n",
        "\n",
        "Mengubah 2D (28x28) menjadi 1D (784 fitur) agar bisa digunakan oleh ANN:"
      ],
      "metadata": {
        "id": "o-N-XCTUvK0y"
      }
    },
    {
      "cell_type": "code",
      "source": [
        "x_train = x_train.reshape(-1, 28*28)\n",
        "x_test = x_test.reshape(-1, 28*28)"
      ],
      "metadata": {
        "id": "w8qdDAH5n6UV"
      },
      "execution_count": null,
      "outputs": []
    },
    {
      "cell_type": "markdown",
      "source": [
        " Citra 28x28 diubah menjadi vektor 1D dengan 784 elemen karena ANN menerima input berupa vektor.\n",
        "\n",
        " * Citra 28x28 adalah gambar item fashion (seperti sepatu atau baju) berukuran 28 piksel × 28 piksel. Karena ANN hanya menerima input berupa vektor (barisan angka), gambar diubah menjadi vektor sepanjang 784 angka (28 × 28)."
      ],
      "metadata": {
        "id": "bYimgDaHMMyz"
      }
    },
    {
      "cell_type": "markdown",
      "source": [
        "**c. Penerapan Query Language dengan menggunakan Pandas Query (Query Language) untuk seleksi data**\n",
        "\n",
        "pada tahap ini, semua data kelas diseleksi."
      ],
      "metadata": {
        "id": "0HEnpVdzvSpG"
      }
    },
    {
      "cell_type": "code",
      "source": [
        "df = pd.DataFrame(x_train)\n",
        "df['label'] = y_train\n",
        "\n",
        "print(\"Jumlah subset:\", subset.shape)"
      ],
      "metadata": {
        "colab": {
          "base_uri": "https://localhost:8080/"
        },
        "id": "C_pfg6min-Dj",
        "outputId": "1bbae8ff-e41b-44d6-da07-41cbc2404031"
      },
      "execution_count": null,
      "outputs": [
        {
          "output_type": "stream",
          "name": "stdout",
          "text": [
            "Jumlah subset: (12000, 785)\n"
          ]
        }
      ]
    },
    {
      "cell_type": "markdown",
      "source": [
        "**d. One-Hot Encoding Label**\n",
        "\n",
        "Mengubah label numerik (0–9) menjadi vektor biner (untuk softmax output layer ANN)."
      ],
      "metadata": {
        "id": "Axjz6JsQv-hX"
      }
    },
    {
      "cell_type": "code",
      "source": [
        "from tensorflow.keras.utils import to_categorical\n",
        "\n",
        "y_train_cat = to_categorical(y_train, num_classes=10)\n",
        "y_test_cat = to_categorical(y_test, num_classes=10)"
      ],
      "metadata": {
        "id": "zujJK7vboDer"
      },
      "execution_count": null,
      "outputs": []
    },
    {
      "cell_type": "markdown",
      "source": [
        "Label numerik (contoh: 3) dikonversi menjadi vektor 10 dimensi: 3 → [0, 0, 0, 1, 0, 0, 0, 0, 0, 0].\n",
        "\n",
        "Ini diperlukan karena output layer ANN menggunakan fungsi softmax, yang menghasilkan probabilitas untuk setiap kelas."
      ],
      "metadata": {
        "id": "RBO8vPb0MiVI"
      }
    },
    {
      "cell_type": "markdown",
      "source": [
        "# **4. Modeling (ANN)**\n",
        "\n",
        "* Model ANN dengan 3 layer utama:\n",
        "\n",
        "  1. Dense(128) → hidden layer pertama\n",
        "\n",
        "  2. Dense(64) → hidden layer kedua\n",
        "\n",
        "  3. Dense(10) → output layer untuk 10 kelas\n",
        "\n",
        "* ReLU: fungsi aktivasi non-linear yang efisien dan cepat.\n",
        "\n",
        "* Dropout (0.2): mencegah overfitting dengan mengabaikan 20% neuron saat training.\n",
        "* Loss function: categorical_crossentropy karena ini masalah klasifikasi multi-kelas.\n",
        "\n",
        "* Optimizer: adam dipilih karena efisien dan adaptif.\n",
        "\n",
        "* Training:\n",
        "\n",
        "    * 10 epoch (putaran training)\n",
        "\n",
        "    * 20% data training digunakan untuk validasi\n",
        "\n",
        "    * batch size 128 → data diproses dalam kelompok"
      ],
      "metadata": {
        "id": "H4K6dCNfwE0m"
      }
    },
    {
      "cell_type": "code",
      "source": [
        "from tensorflow.keras.models import Sequential\n",
        "from tensorflow.keras.layers import Dense, Dropout\n",
        "\n",
        "model = Sequential([\n",
        "    Dense(128, activation='relu', input_shape=(784,)),\n",
        "    Dropout(0.2),\n",
        "    Dense(64, activation='relu'),\n",
        "    Dropout(0.2),\n",
        "    Dense(10, activation='softmax')  # 10 kelas\n",
        "])\n",
        "\n",
        "model.compile(\n",
        "    loss='categorical_crossentropy',\n",
        "    optimizer='adam',\n",
        "    metrics=['accuracy']\n",
        ")\n",
        "\n",
        "# Training\n",
        "history = model.fit(x_train, y_train_cat, epochs=10, batch_size=128, validation_split=0.2)"
      ],
      "metadata": {
        "colab": {
          "base_uri": "https://localhost:8080/"
        },
        "id": "ah2JrfawoOmK",
        "outputId": "9cb536c1-382a-494a-8f4e-807c37806cf9"
      },
      "execution_count": null,
      "outputs": [
        {
          "output_type": "stream",
          "name": "stderr",
          "text": [
            "/usr/local/lib/python3.11/dist-packages/keras/src/layers/core/dense.py:87: UserWarning: Do not pass an `input_shape`/`input_dim` argument to a layer. When using Sequential models, prefer using an `Input(shape)` object as the first layer in the model instead.\n",
            "  super().__init__(activity_regularizer=activity_regularizer, **kwargs)\n"
          ]
        },
        {
          "output_type": "stream",
          "name": "stdout",
          "text": [
            "Epoch 1/10\n",
            "\u001b[1m375/375\u001b[0m \u001b[32m━━━━━━━━━━━━━━━━━━━━\u001b[0m\u001b[37m\u001b[0m \u001b[1m5s\u001b[0m 8ms/step - accuracy: 0.6682 - loss: 0.9404 - val_accuracy: 0.8458 - val_loss: 0.4315\n",
            "Epoch 2/10\n",
            "\u001b[1m375/375\u001b[0m \u001b[32m━━━━━━━━━━━━━━━━━━━━\u001b[0m\u001b[37m\u001b[0m \u001b[1m4s\u001b[0m 9ms/step - accuracy: 0.8326 - loss: 0.4659 - val_accuracy: 0.8578 - val_loss: 0.3877\n",
            "Epoch 3/10\n",
            "\u001b[1m375/375\u001b[0m \u001b[32m━━━━━━━━━━━━━━━━━━━━\u001b[0m\u001b[37m\u001b[0m \u001b[1m2s\u001b[0m 6ms/step - accuracy: 0.8479 - loss: 0.4198 - val_accuracy: 0.8596 - val_loss: 0.3902\n",
            "Epoch 4/10\n",
            "\u001b[1m375/375\u001b[0m \u001b[32m━━━━━━━━━━━━━━━━━━━━\u001b[0m\u001b[37m\u001b[0m \u001b[1m3s\u001b[0m 7ms/step - accuracy: 0.8580 - loss: 0.3861 - val_accuracy: 0.8732 - val_loss: 0.3559\n",
            "Epoch 5/10\n",
            "\u001b[1m375/375\u001b[0m \u001b[32m━━━━━━━━━━━━━━━━━━━━\u001b[0m\u001b[37m\u001b[0m \u001b[1m3s\u001b[0m 7ms/step - accuracy: 0.8694 - loss: 0.3658 - val_accuracy: 0.8742 - val_loss: 0.3449\n",
            "Epoch 6/10\n",
            "\u001b[1m375/375\u001b[0m \u001b[32m━━━━━━━━━━━━━━━━━━━━\u001b[0m\u001b[37m\u001b[0m \u001b[1m4s\u001b[0m 10ms/step - accuracy: 0.8725 - loss: 0.3472 - val_accuracy: 0.8748 - val_loss: 0.3491\n",
            "Epoch 7/10\n",
            "\u001b[1m375/375\u001b[0m \u001b[32m━━━━━━━━━━━━━━━━━━━━\u001b[0m\u001b[37m\u001b[0m \u001b[1m4s\u001b[0m 7ms/step - accuracy: 0.8776 - loss: 0.3367 - val_accuracy: 0.8804 - val_loss: 0.3290\n",
            "Epoch 8/10\n",
            "\u001b[1m375/375\u001b[0m \u001b[32m━━━━━━━━━━━━━━━━━━━━\u001b[0m\u001b[37m\u001b[0m \u001b[1m5s\u001b[0m 7ms/step - accuracy: 0.8815 - loss: 0.3224 - val_accuracy: 0.8822 - val_loss: 0.3235\n",
            "Epoch 9/10\n",
            "\u001b[1m375/375\u001b[0m \u001b[32m━━━━━━━━━━━━━━━━━━━━\u001b[0m\u001b[37m\u001b[0m \u001b[1m4s\u001b[0m 11ms/step - accuracy: 0.8827 - loss: 0.3186 - val_accuracy: 0.8818 - val_loss: 0.3276\n",
            "Epoch 10/10\n",
            "\u001b[1m375/375\u001b[0m \u001b[32m━━━━━━━━━━━━━━━━━━━━\u001b[0m\u001b[37m\u001b[0m \u001b[1m3s\u001b[0m 6ms/step - accuracy: 0.8852 - loss: 0.3135 - val_accuracy: 0.8786 - val_loss: 0.3286\n"
          ]
        }
      ]
    },
    {
      "cell_type": "markdown",
      "source": [
        "# **5. Evaluation**\n",
        "\n",
        "Prediksi:\n",
        "\n",
        "* Prediksi: Model menghasilkan probabilitas, lalu diubah ke kelas dengan argmax.\n",
        "    * argmax adalah fungsi yang mengambil nilai tertinggi dari hasil prediksi. ANN menghasilkan 10 angka (probabilitas tiap kelas), dan argmax menentukan kelas dengan nilai tertinggi sebagai hasil prediksi.\n",
        "\n",
        "* Confusion Matrix: Menampilkan prediksi vs. ground truth secara visual."
      ],
      "metadata": {
        "id": "fzVnGOmzwMb1"
      }
    },
    {
      "cell_type": "markdown",
      "source": [
        "* Visualisasi hasil prediksi dalam bentuk confusion matrix.\n",
        "\n",
        "* Menampilkan precision, recall, dan f1-score untuk masing-masing kelas."
      ],
      "metadata": {
        "id": "zLeDjL8QOCtC"
      }
    },
    {
      "cell_type": "code",
      "source": [
        "from sklearn.metrics import classification_report, confusion_matrix\n",
        "import seaborn as sns\n",
        "\n",
        "# Prediksi\n",
        "y_pred = model.predict(x_test)\n",
        "y_pred_classes = np.argmax(y_pred, axis=1)\n",
        "\n",
        "# Confusion matrix\n",
        "cm = confusion_matrix(y_test, y_pred_classes)\n",
        "\n",
        "plt.figure(figsize=(10,7))\n",
        "sns.heatmap(cm, annot=True, fmt=\"d\", xticklabels=label_map.values(), yticklabels=label_map.values())\n",
        "plt.xlabel(\"Predicted\")\n",
        "plt.ylabel(\"True\")\n",
        "plt.title(\"Confusion Matrix\")\n",
        "plt.show()\n",
        "\n",
        "# Report klasifikasi\n",
        "print(classification_report(y_test, y_pred_classes, target_names=label_map.values()))"
      ],
      "metadata": {
        "colab": {
          "base_uri": "https://localhost:8080/",
          "height": 953
        },
        "id": "Qa5V5xGypjQb",
        "outputId": "a7fc607b-24e9-4355-f87f-4b3297ee7443"
      },
      "execution_count": null,
      "outputs": [
        {
          "output_type": "stream",
          "name": "stdout",
          "text": [
            "\u001b[1m313/313\u001b[0m \u001b[32m━━━━━━━━━━━━━━━━━━━━\u001b[0m\u001b[37m\u001b[0m \u001b[1m1s\u001b[0m 2ms/step\n"
          ]
        },
        {
          "output_type": "display_data",
          "data": {
            "text/plain": [
              "<Figure size 1000x700 with 2 Axes>"
            ],
            "image/png": "[encoded data removed]"
          },
          "metadata": {}
        },
        {
          "output_type": "stream",
          "name": "stdout",
          "text": [
            "              precision    recall  f1-score   support\n",
            "\n",
            " T-shirt/top       0.86      0.77      0.81      1000\n",
            "     Trouser       0.99      0.97      0.98      1000\n",
            "    Pullover       0.77      0.78      0.78      1000\n",
            "       Dress       0.84      0.91      0.87      1000\n",
            "        Coat       0.77      0.80      0.79      1000\n",
            "      Sandal       0.95      0.96      0.96      1000\n",
            "       Shirt       0.69      0.66      0.68      1000\n",
            "     Sneaker       0.94      0.94      0.94      1000\n",
            "         Bag       0.96      0.97      0.97      1000\n",
            "  Ankle boot       0.95      0.95      0.95      1000\n",
            "\n",
            "    accuracy                           0.87     10000\n",
            "   macro avg       0.87      0.87      0.87     10000\n",
            "weighted avg       0.87      0.87      0.87     10000\n",
            "\n"
          ]
        }
      ]
    },
    {
      "cell_type": "markdown",
      "source": [
        "# Kesimpulan\n",
        "\n",
        "1. Model ANN mencapai akurasi 87%, performanya cukup baik untuk dataset Fashion MNIST.\n",
        "\n",
        "2. Model bekerja sangat baik pada kelas seperti Trouser, Sandal, Sneaker, dan Bag.\n",
        "\n",
        "3. Kesalahan utama terjadi pada kelas Shirt, yang sering tertukar dengan T-shirt dan Pullover karena bentuknya mirip.\n",
        "\n",
        "3. Confusion matrix membantu melihat di mana model salah, dan bisa dijadikan dasar untuk meningkatkan model, misalnya dengan menggunakan CNN untuk mengenali fitur visual lebih dalam."
      ],
      "metadata": {
        "id": "jYFHQfccP5zQ"
      }
    },
    {
      "cell_type": "code",
      "source": [
        "model.save('final_model.h5')"
      ],
      "metadata": {
        "id": "dX5pVTEQEKzR"
      },
      "execution_count": null,
      "outputs": []
    }
  ]
}